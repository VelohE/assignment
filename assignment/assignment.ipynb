{
 "cells": [
  {
   "cell_type": "code",
   "execution_count": 1,
   "id": "e312afc9-1838-4284-aacb-25790682b0d9",
   "metadata": {},
   "outputs": [
    {
     "name": "stdout",
     "output_type": "stream",
     "text": [
      "\u001b[33mDEPRECATION: Configuring installation scheme with distutils config files is deprecated and will no longer work in the near future. If you are using a Homebrew or Linuxbrew Python, please see discussion at https://github.com/Homebrew/homebrew-core/issues/76621\u001b[0m\u001b[33m\n",
      "\u001b[0mRequirement already satisfied: pandas in /opt/homebrew/lib/python3.9/site-packages (1.3.4)\n",
      "Requirement already satisfied: python-dateutil>=2.7.3 in /opt/homebrew/lib/python3.9/site-packages (from pandas) (2.8.2)\n",
      "Requirement already satisfied: pytz>=2017.3 in /opt/homebrew/lib/python3.9/site-packages (from pandas) (2021.3)\n",
      "Requirement already satisfied: numpy>=1.20.0 in /opt/homebrew/lib/python3.9/site-packages (from pandas) (1.21.2)\n",
      "Requirement already satisfied: six>=1.5 in /opt/homebrew/lib/python3.9/site-packages/six-1.16.0-py3.9.egg (from python-dateutil>=2.7.3->pandas) (1.16.0)\n",
      "\u001b[33mDEPRECATION: Configuring installation scheme with distutils config files is deprecated and will no longer work in the near future. If you are using a Homebrew or Linuxbrew Python, please see discussion at https://github.com/Homebrew/homebrew-core/issues/76621\u001b[0m\u001b[33m\n",
      "\u001b[0mNote: you may need to restart the kernel to use updated packages.\n"
     ]
    }
   ],
   "source": [
    "pip install pandas"
   ]
  },
  {
   "cell_type": "code",
   "execution_count": 2,
   "id": "993d8272-71d6-4396-8e6d-6174019486a7",
   "metadata": {},
   "outputs": [
    {
     "name": "stdout",
     "output_type": "stream",
     "text": [
      "\u001b[33mDEPRECATION: Configuring installation scheme with distutils config files is deprecated and will no longer work in the near future. If you are using a Homebrew or Linuxbrew Python, please see discussion at https://github.com/Homebrew/homebrew-core/issues/76621\u001b[0m\u001b[33m\n",
      "\u001b[0mRequirement already satisfied: matplotlib in /opt/homebrew/lib/python3.9/site-packages (3.4.3)\n",
      "Requirement already satisfied: cycler>=0.10 in /opt/homebrew/lib/python3.9/site-packages (from matplotlib) (0.10.0)\n",
      "Requirement already satisfied: kiwisolver>=1.0.1 in /opt/homebrew/lib/python3.9/site-packages (from matplotlib) (1.3.2)\n",
      "Requirement already satisfied: numpy>=1.16 in /opt/homebrew/lib/python3.9/site-packages (from matplotlib) (1.21.2)\n",
      "Requirement already satisfied: pillow>=6.2.0 in /opt/homebrew/lib/python3.9/site-packages (from matplotlib) (8.3.2)\n",
      "Requirement already satisfied: pyparsing>=2.2.1 in /opt/homebrew/lib/python3.9/site-packages (from matplotlib) (2.4.7)\n",
      "Requirement already satisfied: python-dateutil>=2.7 in /opt/homebrew/lib/python3.9/site-packages (from matplotlib) (2.8.2)\n",
      "Requirement already satisfied: six in /opt/homebrew/lib/python3.9/site-packages/six-1.16.0-py3.9.egg (from cycler>=0.10->matplotlib) (1.16.0)\n",
      "\u001b[33mDEPRECATION: Configuring installation scheme with distutils config files is deprecated and will no longer work in the near future. If you are using a Homebrew or Linuxbrew Python, please see discussion at https://github.com/Homebrew/homebrew-core/issues/76621\u001b[0m\u001b[33m\n",
      "\u001b[0mNote: you may need to restart the kernel to use updated packages.\n"
     ]
    }
   ],
   "source": [
    "pip install matplotlib"
   ]
  },
  {
   "cell_type": "code",
   "execution_count": 9,
   "id": "4ce7518f-7669-426e-a6b5-b89b8f7a1533",
   "metadata": {},
   "outputs": [],
   "source": [
    "data = 'data.csv'"
   ]
  },
  {
   "cell_type": "code",
   "execution_count": 19,
   "id": "f84d318f-b79a-476e-a2eb-03fed248118c",
   "metadata": {},
   "outputs": [],
   "source": [
    "import pandas as pd\n",
    "import matplotlib.pyplot as plt"
   ]
  },
  {
   "cell_type": "code",
   "execution_count": 11,
   "id": "d14dbd7f-5b05-445e-a737-4e956586c2ba",
   "metadata": {},
   "outputs": [],
   "source": [
    "\n",
    "#loaddata\n",
    "file= pd.read_csv(data)\n"
   ]
  },
  {
   "cell_type": "code",
   "execution_count": 12,
   "id": "c357bc8c-a81d-4dad-8f9c-611e503ddaa3",
   "metadata": {},
   "outputs": [],
   "source": [
    "#clean\n",
    "file= file.dropna()\n"
   ]
  },
  {
   "cell_type": "code",
   "execution_count": 14,
   "id": "b750b8db-277f-4b6a-9806-3c29105563f5",
   "metadata": {},
   "outputs": [],
   "source": [
    "#Statistics\n",
    "stat = file.describe()"
   ]
  },
  {
   "cell_type": "code",
   "execution_count": 20,
   "id": "81b30f95-3072-42d7-9280-2f0f8b0845f9",
   "metadata": {},
   "outputs": [
    {
     "data": {
      "image/png": "[encoded data removed]",
      "text/plain": [
       "<Figure size 432x288 with 1 Axes>"
      ]
     },
     "metadata": {
      "needs_background": "light"
     },
     "output_type": "display_data"
    }
   ],
   "source": [
    "file['AnimalName'].hist()\n",
    "plt.show()"
   ]
  },
  {
   "cell_type": "code",
   "execution_count": 22,
   "id": "a7d076a9-2cdb-4808-a666-75142e978316",
   "metadata": {},
   "outputs": [
    {
     "name": "stdout",
     "output_type": "stream",
     "text": [
      "       AnimalName symptoms1 symptoms2 symptoms3    symptoms4 symptoms5  \\\n",
      "count         869       869       869       869          869       869   \n",
      "unique         46       231       229       229          216       202   \n",
      "top     Buffaloes     Fever  Diarrhea  Coughing  Weight loss     Pains   \n",
      "freq          128       257       119        95          117        99   \n",
      "\n",
      "       Dangerous  \n",
      "count        869  \n",
      "unique         2  \n",
      "top          Yes  \n",
      "freq         849  \n"
     ]
    }
   ],
   "source": [
    "print(stat)"
   ]
  },
  {
   "cell_type": "code",
   "execution_count": null,
   "id": "ef2c1139-6cac-4fef-a79b-5210d063a1a7",
   "metadata": {},
   "outputs": [],
   "source": []
  },
  {
   "cell_type": "code",
   "execution_count": null,
   "id": "79455756-b8fd-4232-982a-c9965f83e36f",
   "metadata": {},
   "outputs": [],
   "source": []
  }
 ],
 "metadata": {
  "kernelspec": {
   "display_name": "Python 3 (ipykernel)",
   "language": "python",
   "name": "python3"
  },
  "language_info": {
   "codemirror_mode": {
    "name": "ipython",
    "version": 3
   },
   "file_extension": ".py",
   "mimetype": "text/x-python",
   "name": "python",
   "nbconvert_exporter": "python",
   "pygments_lexer": "ipython3",
   "version": "3.9.16"
  }
 },
 "nbformat": 4,
 "nbformat_minor": 5
}
